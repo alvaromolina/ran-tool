{
 "cells": [
  {
   "cell_type": "markdown",
   "id": "ad2b71bc",
   "metadata": {},
   "source": [
    "# Database Quality Metrics"
   ]
  },
  {
   "cell_type": "markdown",
   "id": "9c69452f",
   "metadata": {},
   "source": [
    "# UMTS CQI Table"
   ]
  },
  {
   "cell_type": "code",
   "execution_count": null,
   "id": "241361d2",
   "metadata": {},
   "outputs": [],
   "source": [
    "from create_db_quality_metrics import create_table_umts_cqi_metrics_daily\n",
    "\n",
    "create_table_umts_cqi_metrics_daily()"
   ]
  },
  {
   "cell_type": "markdown",
   "id": "b96d6fb6",
   "metadata": {},
   "source": [
    "# LTE CQI Table"
   ]
  },
  {
   "cell_type": "code",
   "execution_count": null,
   "id": "2d47f227",
   "metadata": {},
   "outputs": [],
   "source": [
    "from create_db_quality_metrics import create_table_lte_cqi_metrics_daily\n",
    "\n",
    "create_table_lte_cqi_metrics_daily()"
   ]
  },
  {
   "cell_type": "markdown",
   "id": "b92e4a70",
   "metadata": {},
   "source": [
    "# NR CQI Table"
   ]
  },
  {
   "cell_type": "code",
   "execution_count": 1,
   "id": "39e559e6",
   "metadata": {},
   "outputs": [
    {
     "name": "stdout",
     "output_type": "stream",
     "text": [
      "Table 'nr_cqi_metrics_daily' created successfully.\n"
     ]
    }
   ],
   "source": [
    "from create_db_quality_metrics import create_table_nr_cqi_metrics_daily\n",
    "\n",
    "create_table_nr_cqi_metrics_daily()"
   ]
  }
 ],
 "metadata": {
  "kernelspec": {
   "display_name": "venv",
   "language": "python",
   "name": "python3"
  },
  "language_info": {
   "codemirror_mode": {
    "name": "ipython",
    "version": 3
   },
   "file_extension": ".py",
   "mimetype": "text/x-python",
   "name": "python",
   "nbconvert_exporter": "python",
   "pygments_lexer": "ipython3",
   "version": "3.13.5"
  }
 },
 "nbformat": 4,
 "nbformat_minor": 5
}
