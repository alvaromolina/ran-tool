{
 "cells": [
  {
   "cell_type": "markdown",
   "metadata": {},
   "source": [
    "# Database Setup\n",
    "\n",
    "Initialize quality analytics database and create tables."
   ]
  },
  {
   "cell_type": "markdown",
   "metadata": {},
   "source": [
    "## Warning\n",
    "\n",
    "This will delete and recreate the quality_analytics database."
   ]
  },
  {
   "cell_type": "markdown",
   "metadata": {},
   "source": [
    "## Create Database"
   ]
  },
  {
   "cell_type": "code",
   "execution_count": null,
   "metadata": {},
   "outputs": [],
   "source": [
    "from create_db_quality import create_db_quality_analytics\n",
    "\n",
    "create_db_quality_analytics()"
   ]
  },
  {
   "cell_type": "markdown",
   "metadata": {},
   "source": [
    "## Reference Tables"
   ]
  },
  {
   "cell_type": "code",
   "execution_count": null,
   "metadata": {},
   "outputs": [],
   "source": [
    "from create_db_quality import create_table_master_node_total, create_table_master_cell_total, create_table_master_cell, create_table_master_node, create_table_ept_cell\n",
    "\n",
    "create_table_master_node_total()\n",
    "create_table_master_cell_total()\n",
    "create_table_ept_cell()\n",
    "create_table_master_cell()\n",
    "create_table_master_node()"
   ]
  },
  {
   "cell_type": "markdown",
   "metadata": {},
   "source": [
    "## CQI Tables"
   ]
  },
  {
   "cell_type": "code",
   "execution_count": null,
   "metadata": {},
   "outputs": [],
   "source": [
    "from create_db_umts_cqi import create_table_3g_cqi_daily\n",
    "from create_db_lte_cqi import create_table_lte_cqi_daily\n",
    "from create_db_volte_cqi import create_table_volte_cqi_vendor_daily\n",
    "from create_db_nr_cqi import create_table_5g_cqi_daily\n",
    "\n",
    "create_table_3g_cqi_daily()\n",
    "create_table_lte_cqi_daily()\n",
    "create_table_volte_cqi_vendor_daily()\n",
    "create_table_5g_cqi_daily()"
   ]
  },
  {
   "cell_type": "markdown",
   "metadata": {},
   "source": [
    "## Traffic Tables"
   ]
  },
  {
   "cell_type": "code",
   "execution_count": 2,
   "metadata": {},
   "outputs": [
    {
     "name": "stdout",
     "output_type": "stream",
     "text": [
      "Table 'lte_cell_traffic_daily' created successfully.\n"
     ]
    }
   ],
   "source": [
    "from create_db_lte_cqi import create_table_lte_cell_traffic_daily\n",
    "create_table_lte_cell_traffic_daily()"
   ]
  },
  {
   "cell_type": "code",
   "execution_count": 2,
   "metadata": {},
   "outputs": [
    {
     "name": "stdout",
     "output_type": "stream",
     "text": [
      "Table 'umts_cell_traffic_daily' created successfully.\n"
     ]
    }
   ],
   "source": [
    "from create_db_umts_cqi import create_table_umts_cell_traffic_daily\n",
    "create_table_umts_cell_traffic_daily()"
   ]
  },
  {
   "cell_type": "markdown",
   "metadata": {},
   "source": [
    "## Complete\n",
    "\n",
    "Database setup finished."
   ]
  }
 ],
 "metadata": {
  "kernelspec": {
   "display_name": "venv",
   "language": "python",
   "name": "python3"
  },
  "language_info": {
   "codemirror_mode": {
    "name": "ipython",
    "version": 3
   },
   "file_extension": ".py",
   "mimetype": "text/x-python",
   "name": "python",
   "nbconvert_exporter": "python",
   "pygments_lexer": "ipython3",
   "version": "3.13.5"
  }
 },
 "nbformat": 4,
 "nbformat_minor": 2
}
