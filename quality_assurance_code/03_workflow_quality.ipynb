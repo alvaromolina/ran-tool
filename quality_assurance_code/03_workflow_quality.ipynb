{
 "cells": [
  {
   "cell_type": "markdown",
   "metadata": {},
   "source": [
    "# Quality Workflow\n",
    "\n",
    "Process and insert quality data for network technologies."
   ]
  },
  {
   "cell_type": "markdown",
   "metadata": {},
   "source": [
    "## Check Last Dates"
   ]
  },
  {
   "cell_type": "code",
   "execution_count": 1,
   "metadata": {},
   "outputs": [
    {
     "name": "stdout",
     "output_type": "stream",
     "text": [
      "table: umts_cqi_daily : last_date: 2025-08-03\n",
      "table: lte_cqi_daily : last_date: 2025-08-03\n",
      "table: volte_cqi_vendor_daily : last_date: 2025-08-03\n",
      "table: nr_cqi_daily : last_date: 2025-08-03\n",
      "table: lte_cell_traffic_daily : last_date: 2025-08-03\n",
      "table: umts_cell_traffic_daily : last_date: 2025-08-03\n"
     ]
    }
   ],
   "source": [
    "from create_db_quality import get_last_date\n",
    "\n",
    "# Initialize an empty dictionary\n",
    "last_date_dict = {}\n",
    "\n",
    "# Iterate through the table list and store results in the dictionary\n",
    "for table in ['umts_cqi_daily', 'lte_cqi_daily', 'volte_cqi_vendor_daily', 'nr_cqi_daily', 'lte_cell_traffic_daily', 'umts_cell_traffic_daily']:\n",
    "    last_date = get_last_date(table)\n",
    "    \n",
    "    # Replace None with '2024-01-01'\n",
    "    last_date_dict[table] = last_date if last_date is not None else '2024-01-01'\n",
    "\n",
    "# Print the dictionary with formatted output\n",
    "for table, last_date in last_date_dict.items():\n",
    "    print(f\"table: {table} : last_date: {last_date}\")"
   ]
  },
  {
   "cell_type": "markdown",
   "metadata": {},
   "source": [
    "## Insert Quality Data"
   ]
  },
  {
   "cell_type": "code",
   "execution_count": 2,
   "metadata": {},
   "outputs": [
    {
     "name": "stdout",
     "output_type": "stream",
     "text": [
      "All data has been processed insert_umts_cqi_zip_files.\n",
      "All data has been processed insert_lte_cqi_zip_files.\n",
      "All data has been processed insert_lte_cqi_zip_files.\n",
      "All data successfully inserted into PostgreSQL table `volte_cqi_vendor_daily`.\n",
      "All data successfully inserted into PostgreSQL table `volte_cqi_vendor_daily`.\n",
      "All data has been processed insert_nr_cqi_zip_files.\n",
      "All data has been processed insert_nr_cqi_zip_files.\n"
     ]
    }
   ],
   "source": [
    "from insert_db_umts_cqi import insert_umts_cqi_zip_files\n",
    "from insert_db_lte_cqi import insert_lte_cqi_zip_files\n",
    "from insert_db_volte_cqi import insert_volte_cqi_vendor_daily\n",
    "from insert_db_nr_cqi import insert_nr_cqi_zip_files\n",
    "\n",
    "# Initialize an empty dictionary\n",
    "last_date_dict = {}\n",
    "\n",
    "# Iterate through the table list and store results in the dictionary\n",
    "for table in ['umts_cqi_daily', 'lte_cqi_daily', 'volte_cqi_vendor_daily', 'nr_cqi_daily', 'lte_cell_traffic_daily', 'umts_cell_traffic_daily']:\n",
    "    last_date = get_last_date(table)\n",
    "    \n",
    "    # Replace None with '2024-01-01'\n",
    "    last_date_dict[table] = last_date if last_date is not None else '2024-01-01'\n",
    "\n",
    "insert_umts_cqi_zip_files(last_date_dict['umts_cqi_daily'])\n",
    "insert_lte_cqi_zip_files(last_date_dict['lte_cqi_daily'])\n",
    "insert_volte_cqi_vendor_daily(last_date_dict['volte_cqi_vendor_daily'])\n",
    "insert_nr_cqi_zip_files(last_date_dict['nr_cqi_daily'])"
   ]
  },
  {
   "cell_type": "markdown",
   "metadata": {
    "vscode": {
     "languageId": "bat"
    }
   },
   "source": [
    "## Process MasterCell / Ept Data"
   ]
  },
  {
   "cell_type": "code",
   "execution_count": 3,
   "metadata": {},
   "outputs": [
    {
     "name": "stdout",
     "output_type": "stream",
     "text": [
      "Table 'ept_cell' has been successfully truncated.\n",
      "Table 'master_cell' has been successfully truncated.\n",
      "Table 'master_node' has been successfully truncated.\n",
      "Table 'master_cell_total' has been successfully truncated.\n",
      "Table 'master_node_total' has been successfully truncated.\n",
      "\n",
      "Step 1: create_ept_cell\n",
      "Table 'master_cell_total' has been successfully truncated.\n",
      "Table 'master_node_total' has been successfully truncated.\n",
      "\n",
      "Step 1: create_ept_cell\n",
      "Dataframe 'ept_cell' created successfully.\n",
      "Dataframe 'ept_cell' created successfully.\n",
      "Completed in 5m:5s\n",
      "\n",
      "Step 2: insert_ept_cell\n",
      "Completed in 5m:5s\n",
      "\n",
      "Step 2: insert_ept_cell\n",
      "Data inserted successfully into ept_cell.\n",
      "Completed in 8m:41s\n",
      "\n",
      "===== EPT Processing Completed =====\n",
      "\n",
      "Step 1: create_master_cell\n",
      "Data inserted successfully into ept_cell.\n",
      "Completed in 8m:41s\n",
      "\n",
      "===== EPT Processing Completed =====\n",
      "\n",
      "Step 1: create_master_cell\n",
      "Completed in 0m:15s\n",
      "\n",
      "Step 2: insert_master_cell\n",
      "Completed in 0m:15s\n",
      "\n",
      "Step 2: insert_master_cell\n",
      "Data inserted successfully into master_cell.\n",
      "Completed in 1m:5s\n",
      "\n",
      "Step 3: insert_master_node\n",
      "Data inserted successfully into master_cell.\n",
      "Completed in 1m:5s\n",
      "\n",
      "Step 3: insert_master_node\n",
      "Data inserted successfully into master_node.\n",
      "Completed in 0m:1s\n",
      "\n",
      "Step 4: insert_master_cell_total\n",
      "Data inserted successfully into master_node.\n",
      "Completed in 0m:1s\n",
      "\n",
      "Step 4: insert_master_cell_total\n",
      "Data inserted successfully into master_cell_total.\n",
      "Completed in 1m:15s\n",
      "\n",
      "Step 5: insert_master_node_total\n",
      "Data inserted successfully into master_cell_total.\n",
      "Completed in 1m:15s\n",
      "\n",
      "Step 5: insert_master_node_total\n",
      "Data inserted successfully into master_node_total.\n",
      "Completed in 0m:2s\n",
      "\n",
      "===== MASTER CELL Processing Completed =====\n",
      "\n",
      "===== MASTER CELL TOTAL Processing Started =====\n",
      "\n",
      "Step 1: create_master_cell_total (merging initial + last)\n",
      "Creating master cell data from 'initial' directory...\n",
      "Data inserted successfully into master_node_total.\n",
      "Completed in 0m:2s\n",
      "\n",
      "===== MASTER CELL Processing Completed =====\n",
      "\n",
      "===== MASTER CELL TOTAL Processing Started =====\n",
      "\n",
      "Step 1: create_master_cell_total (merging initial + last)\n",
      "Creating master cell data from 'initial' directory...\n",
      "Creating master cell data from 'last' directory...\n",
      "Creating master cell data from 'last' directory...\n",
      "Merging cell data - 'last' data prevails over 'initial'...\n",
      "Merging cell data - 'last' data prevails over 'initial'...\n",
      "Merging node data - 'last' data prevails over 'initial'...\n",
      "Master cell total records: 238016 (initial: 186900, last: 212726)\n",
      "Master node total records: 14036 (initial: 12555, last: 13617)\n",
      "Merging node data - 'last' data prevails over 'initial'...\n",
      "Master cell total records: 238016 (initial: 186900, last: 212726)\n",
      "Master node total records: 14036 (initial: 12555, last: 13617)\n",
      "Completed in 0m:21s\n",
      "\n",
      "Step 2: insert_master_cell_total\n",
      "Completed in 0m:21s\n",
      "\n",
      "Step 2: insert_master_cell_total\n",
      "Data inserted successfully into master_cell_total.\n",
      "Completed in 2m:4s\n",
      "\n",
      "Step 3: insert_master_node_total\n",
      "Data inserted successfully into master_cell_total.\n",
      "Completed in 2m:4s\n",
      "\n",
      "Step 3: insert_master_node_total\n",
      "Data inserted successfully into master_node_total.\n",
      "Completed in 0m:3s\n",
      "\n",
      "===== MASTER CELL TOTAL Processing Completed =====\n",
      "Data inserted successfully into master_node_total.\n",
      "Completed in 0m:3s\n",
      "\n",
      "===== MASTER CELL TOTAL Processing Completed =====\n"
     ]
    }
   ],
   "source": [
    "from create_db_quality import truncate_table\n",
    "from insert_db_ept_cell import process_ept_cell\n",
    "from insert_db_master_cell import process_master_cell, process_master_cell_total\n",
    "\n",
    "truncate_table('ept_cell')\n",
    "truncate_table('master_cell')\n",
    "truncate_table('master_node')\n",
    "truncate_table('master_cell_total')\n",
    "truncate_table('master_node_total')\n",
    "process_ept_cell('ept')\n",
    "process_master_cell()\n",
    "process_master_cell_total()"
   ]
  },
  {
   "cell_type": "markdown",
   "metadata": {},
   "source": [
    "## Process LteTraffic Data"
   ]
  },
  {
   "cell_type": "code",
   "execution_count": 4,
   "metadata": {},
   "outputs": [
    {
     "name": "stdout",
     "output_type": "stream",
     "text": [
      "All data has been processed insert_lte_traffic_cell_zip_file.\n"
     ]
    }
   ],
   "source": [
    "from insert_db_lte_cell_traffic import insert_lte_traffic_cell_zip_file\n",
    "from create_db_quality import get_last_date\n",
    "\n",
    "# Get last date for LTE cell traffic table\n",
    "last_date = get_last_date('lte_cell_traffic_daily')\n",
    "last_date = last_date if last_date is not None else '2024-01-01'\n",
    "\n",
    "insert_lte_traffic_cell_zip_file(last_date)"
   ]
  },
  {
   "cell_type": "markdown",
   "metadata": {},
   "source": [
    "## Process UmtsTraffic Data"
   ]
  },
  {
   "cell_type": "code",
   "execution_count": 5,
   "metadata": {},
   "outputs": [
    {
     "name": "stdout",
     "output_type": "stream",
     "text": [
      "All data has been processed insert_umts_traffic_cell_zip_file.\n"
     ]
    }
   ],
   "source": [
    "from insert_db_umts_cell_traffic import insert_umts_traffic_cell_zip_file\n",
    "from create_db_quality import get_last_date\n",
    "\n",
    "# Get last date for UMTS cell traffic table\n",
    "last_date = get_last_date('umts_cell_traffic_daily')\n",
    "last_date = last_date if last_date is not None else '2024-01-01'\n",
    "\n",
    "insert_umts_traffic_cell_zip_file(last_date)"
   ]
  }
 ],
 "metadata": {
  "kernelspec": {
   "display_name": "venv",
   "language": "python",
   "name": "python3"
  },
  "language_info": {
   "codemirror_mode": {
    "name": "ipython",
    "version": 3
   },
   "file_extension": ".py",
   "mimetype": "text/x-python",
   "name": "python",
   "nbconvert_exporter": "python",
   "pygments_lexer": "ipython3",
   "version": "3.13.5"
  }
 },
 "nbformat": 4,
 "nbformat_minor": 2
}
