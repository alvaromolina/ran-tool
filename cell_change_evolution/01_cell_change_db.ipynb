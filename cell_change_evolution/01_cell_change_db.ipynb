{
 "cells": [
  {
   "cell_type": "code",
   "execution_count": 1,
   "id": "e162d045",
   "metadata": {},
   "outputs": [
    {
     "name": "stdout",
     "output_type": "stream",
     "text": [
      "Error creating database connection: No module named 'psycopg2'\n",
      "Error creating database connection: No module named 'psycopg2'\n",
      "Error creating database connection: No module named 'psycopg2'\n",
      "Error creating database connection: No module named 'psycopg2'\n"
     ]
    },
    {
     "data": {
      "text/plain": [
       "False"
      ]
     },
     "execution_count": 1,
     "metadata": {},
     "output_type": "execute_result"
    }
   ],
   "source": [
    "from create_db_cell_change import create_table_umts_cell_traffic_period, create_table_lte_cell_traffic_period\n",
    "from create_db_cell_change import create_table_lte_cell_change_event, create_table_umts_cell_change_event\n",
    "\n",
    "create_table_lte_cell_traffic_period()\n",
    "create_table_umts_cell_traffic_period()\n",
    "create_table_lte_cell_change_event()\n",
    "create_table_umts_cell_change_event()\n"
   ]
  }
 ],
 "metadata": {
  "kernelspec": {
   "display_name": ".venv",
   "language": "python",
   "name": "python3"
  },
  "language_info": {
   "codemirror_mode": {
    "name": "ipython",
    "version": 3
   },
   "file_extension": ".py",
   "mimetype": "text/x-python",
   "name": "python",
   "nbconvert_exporter": "python",
   "pygments_lexer": "ipython3",
   "version": "3.13.5"
  }
 },
 "nbformat": 4,
 "nbformat_minor": 5
}
